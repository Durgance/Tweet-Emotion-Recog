{
 "cells": [
  {
   "cell_type": "markdown",
   "metadata": {},
   "source": [
    "# Tweet Emotion Recognition: Natural Language Processing with TensorFlow"
   ]
  },
  {
   "cell_type": "code",
   "execution_count": 1,
   "metadata": {},
   "outputs": [
    {
     "name": "stdout",
     "output_type": "stream",
     "text": [
      "Using TensorFlow version 2.7.0\n"
     ]
    }
   ],
   "source": [
    "%matplotlib inline\n",
    "\n",
    "import tensorflow as tf\n",
    "import numpy as np\n",
    "import matplotlib.pyplot as plt\n",
    "import nlp\n",
    "import random\n",
    "\n",
    "\n",
    "def show_history(h):\n",
    "    epochs_trained = len(h.history['loss'])\n",
    "    plt.figure(figsize=(16, 6))\n",
    "\n",
    "    plt.subplot(1, 2, 1)\n",
    "    plt.plot(range(0, epochs_trained), h.history.get('accuracy'), label='Training')\n",
    "    plt.plot(range(0, epochs_trained), h.history.get('val_accuracy'), label='Validation')\n",
    "    plt.ylim([0., 1.])\n",
    "    plt.xlabel('Epochs')\n",
    "    plt.ylabel('Accuracy')\n",
    "    plt.legend()\n",
    "\n",
    "    plt.subplot(1, 2, 2)\n",
    "    plt.plot(range(0, epochs_trained), h.history.get('loss'), label='Training')\n",
    "    plt.plot(range(0, epochs_trained), h.history.get('val_loss'), label='Validation')\n",
    "    plt.xlabel('Epochs')\n",
    "    plt.ylabel('Loss')\n",
    "    plt.legend()\n",
    "    plt.show()\n",
    "\n",
    "    \n",
    "def show_confusion_matrix(y_true, y_pred, classes):\n",
    "    from sklearn.metrics import confusion_matrix\n",
    "    \n",
    "    cm = confusion_matrix(y_true, y_pred, normalize='true')\n",
    "\n",
    "    plt.figure(figsize=(8, 8))\n",
    "    sp = plt.subplot(1, 1, 1)\n",
    "    ctx = sp.matshow(cm)\n",
    "    plt.xticks(list(range(0, 6)), labels=classes)\n",
    "    plt.yticks(list(range(0, 6)), labels=classes)\n",
    "    plt.colorbar(ctx)\n",
    "    plt.show()\n",
    "\n",
    "    \n",
    "print('Using TensorFlow version', tf.__version__)"
   ]
  },
  {
   "cell_type": "markdown",
   "metadata": {},
   "source": [
    "# Importing Data"
   ]
  },
  {
   "cell_type": "code",
   "execution_count": 27,
   "metadata": {},
   "outputs": [
    {
     "name": "stderr",
     "output_type": "stream",
     "text": [
      "Using custom data configuration default\n"
     ]
    },
    {
     "name": "stdout",
     "output_type": "stream",
     "text": [
      "Downloading and preparing dataset emotion/default (download: Unknown size, generated: Unknown size, post-processed: Unknown sizetotal: Unknown size) to ./emotion\\default\\0.0.0\\84e07cd366f4451464584cdbd4958f512bcaddb1e921341e07298ce8a9ce42f4...\n"
     ]
    },
    {
     "name": "stderr",
     "output_type": "stream",
     "text": [
      "Downloading: 100%|██████████| 1.66M/1.66M [00:05<00:00, 315kB/s]\n",
      "Downloading: 100%|██████████| 204k/204k [00:13<00:00, 15.2kB/s]\n",
      "Downloading: 100%|██████████| 207k/207k [00:00<00:00, 226kB/s]\n",
      "                                "
     ]
    },
    {
     "name": "stdout",
     "output_type": "stream",
     "text": [
      "Dataset emotion downloaded and prepared to ./emotion\\default\\0.0.0\\84e07cd366f4451464584cdbd4958f512bcaddb1e921341e07298ce8a9ce42f4. Subsequent calls will reuse this data.\n"
     ]
    },
    {
     "name": "stderr",
     "output_type": "stream",
     "text": []
    }
   ],
   "source": [
    "dataset=nlp.load_dataset(\"emotion\",cache_dir=\"./\")"
   ]
  },
  {
   "cell_type": "code",
   "execution_count": 28,
   "metadata": {},
   "outputs": [
    {
     "data": {
      "text/plain": [
       "{'train': Dataset(features: {'text': Value(dtype='string', id=None), 'label': Value(dtype='string', id=None)}, num_rows: 16000),\n",
       " 'validation': Dataset(features: {'text': Value(dtype='string', id=None), 'label': Value(dtype='string', id=None)}, num_rows: 2000),\n",
       " 'test': Dataset(features: {'text': Value(dtype='string', id=None), 'label': Value(dtype='string', id=None)}, num_rows: 2000)}"
      ]
     },
     "execution_count": 28,
     "metadata": {},
     "output_type": "execute_result"
    }
   ],
   "source": [
    "dataset"
   ]
  },
  {
   "cell_type": "code",
   "execution_count": 29,
   "metadata": {},
   "outputs": [],
   "source": [
    "train=dataset[\"train\"]\n",
    "val=dataset[\"validation\"]\n",
    "test=dataset[\"test\"]"
   ]
  },
  {
   "cell_type": "code",
   "execution_count": 31,
   "metadata": {},
   "outputs": [],
   "source": [
    "def get_tweet(data):\n",
    "    tweets=[x[\"text\"] for x in data]\n",
    "    labels=[x[\"label\"] for x in data]\n",
    "    return tweets, labels"
   ]
  },
  {
   "cell_type": "code",
   "execution_count": 32,
   "metadata": {},
   "outputs": [],
   "source": [
    "tweets,labels = get_tweet(train)"
   ]
  },
  {
   "cell_type": "code",
   "execution_count": 33,
   "metadata": {},
   "outputs": [
    {
     "data": {
      "text/plain": [
       "('i can go from feeling so hopeless to so damned hopeful just from being around someone who cares and is awake',\n",
       " 'sadness')"
      ]
     },
     "execution_count": 33,
     "metadata": {},
     "output_type": "execute_result"
    }
   ],
   "source": [
    "tweets[1],labels[1]"
   ]
  },
  {
   "cell_type": "markdown",
   "metadata": {},
   "source": [
    "# Tokenizing the data"
   ]
  },
  {
   "cell_type": "code",
   "execution_count": 35,
   "metadata": {},
   "outputs": [],
   "source": [
    "from tensorflow.keras.preprocessing.text import Tokenizer\n",
    "from tensorflow.keras.preprocessing.sequence import pad_sequences"
   ]
  },
  {
   "cell_type": "code",
   "execution_count": 61,
   "metadata": {},
   "outputs": [],
   "source": [
    "vocab_size = 10000\n",
    "embedding_dim = 16\n",
    "trunc_type='post'\n",
    "pad_type=\"post\"\n",
    "oov_tok = \"<OOV>\"\n"
   ]
  },
  {
   "cell_type": "code",
   "execution_count": null,
   "metadata": {},
   "outputs": [],
   "source": [
    "\n",
    "tokenizer=Tokenizer(num_words=vocab_size,oov_token=oov_tok)\n",
    "tokenizer.fit_on_texts(tweets)"
   ]
  },
  {
   "cell_type": "code",
   "execution_count": 41,
   "metadata": {},
   "outputs": [
    {
     "data": {
      "text/plain": [
       "{'<OOV>': 1,\n",
       " 'i': 2,\n",
       " 'feel': 3,\n",
       " 'and': 4,\n",
       " 'to': 5,\n",
       " 'the': 6,\n",
       " 'a': 7,\n",
       " 'feeling': 8,\n",
       " 'that': 9,\n",
       " 'of': 10,\n",
       " 'my': 11,\n",
       " 'in': 12,\n",
       " 'it': 13,\n",
       " 'like': 14,\n",
       " 'so': 15,\n",
       " 'for': 16,\n",
       " 'im': 17,\n",
       " 'me': 18,\n",
       " 'but': 19,\n",
       " 'was': 20,\n",
       " 'have': 21,\n",
       " 'is': 22,\n",
       " 'this': 23,\n",
       " 'am': 24,\n",
       " 'with': 25,\n",
       " 'not': 26,\n",
       " 'about': 27,\n",
       " 'be': 28,\n",
       " 'as': 29,\n",
       " 'on': 30,\n",
       " 'you': 31,\n",
       " 'just': 32,\n",
       " 'at': 33,\n",
       " 'when': 34,\n",
       " 'or': 35,\n",
       " 'all': 36,\n",
       " 'because': 37,\n",
       " 'more': 38,\n",
       " 'do': 39,\n",
       " 'can': 40,\n",
       " 'really': 41,\n",
       " 'up': 42,\n",
       " 't': 43,\n",
       " 'are': 44,\n",
       " 'by': 45,\n",
       " 'very': 46,\n",
       " 'know': 47,\n",
       " 'been': 48,\n",
       " 'if': 49,\n",
       " 'out': 50,\n",
       " 'myself': 51,\n",
       " 'time': 52,\n",
       " 'how': 53,\n",
       " 'what': 54,\n",
       " 'get': 55,\n",
       " 'little': 56,\n",
       " 'had': 57,\n",
       " 'now': 58,\n",
       " 'will': 59,\n",
       " 'from': 60,\n",
       " 'being': 61,\n",
       " 'they': 62,\n",
       " 'people': 63,\n",
       " 'them': 64,\n",
       " 'would': 65,\n",
       " 'he': 66,\n",
       " 'want': 67,\n",
       " 'her': 68,\n",
       " 'some': 69,\n",
       " 'think': 70,\n",
       " 'one': 71,\n",
       " 'still': 72,\n",
       " 'ive': 73,\n",
       " 'him': 74,\n",
       " 'even': 75,\n",
       " 'who': 76,\n",
       " 'an': 77,\n",
       " 'life': 78,\n",
       " 'its': 79,\n",
       " 'make': 80,\n",
       " 'there': 81,\n",
       " 'we': 82,\n",
       " 'bit': 83,\n",
       " 'something': 84,\n",
       " 'love': 85,\n",
       " 'much': 86,\n",
       " 'going': 87,\n",
       " 'dont': 88,\n",
       " 'things': 89,\n",
       " 's': 90,\n",
       " 'way': 91,\n",
       " 'could': 92,\n",
       " 'm': 93,\n",
       " 'too': 94,\n",
       " 'than': 95,\n",
       " 'no': 96,\n",
       " 'day': 97,\n",
       " 'she': 98,\n",
       " 'has': 99,\n",
       " 'back': 100,\n",
       " 'go': 101,\n",
       " 'good': 102,\n",
       " 'pretty': 103,\n",
       " 'don': 104,\n",
       " 'need': 105,\n",
       " 'into': 106,\n",
       " 'his': 107,\n",
       " 'which': 108,\n",
       " 'these': 109,\n",
       " 'your': 110,\n",
       " 'their': 111,\n",
       " 'always': 112,\n",
       " 'see': 113,\n",
       " 'right': 114,\n",
       " 'feelings': 115,\n",
       " 'over': 116,\n",
       " 'also': 117,\n",
       " 'only': 118,\n",
       " 'say': 119,\n",
       " 'other': 120,\n",
       " 'should': 121,\n",
       " 'today': 122,\n",
       " 'feels': 123,\n",
       " 'work': 124,\n",
       " 'then': 125,\n",
       " 'after': 126,\n",
       " 'did': 127,\n",
       " 'around': 128,\n",
       " 'again': 129,\n",
       " 'were': 130,\n",
       " 'cant': 131,\n",
       " 'made': 132,\n",
       " 'our': 133,\n",
       " 'most': 134,\n",
       " 'well': 135,\n",
       " 'here': 136,\n",
       " 'though': 137,\n",
       " 'through': 138,\n",
       " 'didnt': 139,\n",
       " 'help': 140,\n",
       " 'got': 141,\n",
       " 'down': 142,\n",
       " 'those': 143,\n",
       " 'felt': 144,\n",
       " 'never': 145,\n",
       " 'any': 146,\n",
       " 'every': 147,\n",
       " 'someone': 148,\n",
       " 'days': 149,\n",
       " 'having': 150,\n",
       " 'less': 151,\n",
       " 'makes': 152,\n",
       " 'where': 153,\n",
       " 'happy': 154,\n",
       " 'doing': 155,\n",
       " 'enough': 156,\n",
       " 'quite': 157,\n",
       " 'sure': 158,\n",
       " 'lot': 159,\n",
       " 'many': 160,\n",
       " 'why': 161,\n",
       " 'away': 162,\n",
       " 'look': 163,\n",
       " 'find': 164,\n",
       " 'ever': 165,\n",
       " 'anything': 166,\n",
       " 'home': 167,\n",
       " 'kind': 168,\n",
       " 'off': 169,\n",
       " 'better': 170,\n",
       " 'person': 171,\n",
       " 'left': 172,\n",
       " 'friends': 173,\n",
       " 'without': 174,\n",
       " 'own': 175,\n",
       " 'before': 176,\n",
       " 'everything': 177,\n",
       " 'actually': 178,\n",
       " 'last': 179,\n",
       " 'getting': 180,\n",
       " 'such': 181,\n",
       " 'come': 182,\n",
       " 'take': 183,\n",
       " 'world': 184,\n",
       " 'new': 185,\n",
       " 'sometimes': 186,\n",
       " 'while': 187,\n",
       " 'http': 188,\n",
       " 'thing': 189,\n",
       " 'remember': 190,\n",
       " 'trying': 191,\n",
       " 'few': 192,\n",
       " 'year': 193,\n",
       " 'thought': 194,\n",
       " 'first': 195,\n",
       " 'times': 196,\n",
       " 'family': 197,\n",
       " 'started': 198,\n",
       " 'able': 199,\n",
       " 'said': 200,\n",
       " 'alone': 201,\n",
       " 'week': 202,\n",
       " 'rather': 203,\n",
       " 'try': 204,\n",
       " 'making': 205,\n",
       " 'long': 206,\n",
       " 'let': 207,\n",
       " 'already': 208,\n",
       " 'keep': 209,\n",
       " 'href': 210,\n",
       " 'bad': 211,\n",
       " 'ill': 212,\n",
       " 'start': 213,\n",
       " 'us': 214,\n",
       " 'years': 215,\n",
       " 'read': 216,\n",
       " 'others': 217,\n",
       " 'yet': 218,\n",
       " 'two': 219,\n",
       " 'give': 220,\n",
       " 'tell': 221,\n",
       " 'may': 222,\n",
       " 'place': 223,\n",
       " 'same': 224,\n",
       " 'write': 225,\n",
       " 'since': 226,\n",
       " 'nothing': 227,\n",
       " 'end': 228,\n",
       " 'heart': 229,\n",
       " 'part': 230,\n",
       " 'often': 231,\n",
       " 'hate': 232,\n",
       " 'stressed': 233,\n",
       " 'strange': 234,\n",
       " 'sweet': 235,\n",
       " 'moment': 236,\n",
       " 'morning': 237,\n",
       " 'overwhelmed': 238,\n",
       " 'hope': 239,\n",
       " 'might': 240,\n",
       " 'school': 241,\n",
       " 'god': 242,\n",
       " 'blog': 243,\n",
       " 'anyone': 244,\n",
       " 'didn': 245,\n",
       " 'night': 246,\n",
       " 'weird': 247,\n",
       " 'put': 248,\n",
       " 'id': 249,\n",
       " 'hard': 250,\n",
       " 'friend': 251,\n",
       " 'guess': 252,\n",
       " 'looking': 253,\n",
       " 'stop': 254,\n",
       " 'wanted': 255,\n",
       " 'everyone': 256,\n",
       " 'once': 257,\n",
       " 'whole': 258,\n",
       " 'point': 259,\n",
       " 'sad': 260,\n",
       " 'pain': 261,\n",
       " 'does': 262,\n",
       " 'thinking': 263,\n",
       " 'angry': 264,\n",
       " 'another': 265,\n",
       " 'loved': 266,\n",
       " 'old': 267,\n",
       " 'excited': 268,\n",
       " 'went': 269,\n",
       " 'lost': 270,\n",
       " 'hurt': 271,\n",
       " 'amazing': 272,\n",
       " 'blessed': 273,\n",
       " 'done': 274,\n",
       " 'each': 275,\n",
       " 'writing': 276,\n",
       " 'passionate': 277,\n",
       " 'understand': 278,\n",
       " 'body': 279,\n",
       " 'talk': 280,\n",
       " 'important': 281,\n",
       " 'maybe': 282,\n",
       " 'stupid': 283,\n",
       " 'almost': 284,\n",
       " 'completely': 285,\n",
       " 'post': 286,\n",
       " 'self': 287,\n",
       " 'tired': 288,\n",
       " 'least': 289,\n",
       " 've': 290,\n",
       " 'especially': 291,\n",
       " 'next': 292,\n",
       " 'helpless': 293,\n",
       " 'accepted': 294,\n",
       " 'free': 295,\n",
       " 'must': 296,\n",
       " 'use': 297,\n",
       " 'past': 298,\n",
       " 'best': 299,\n",
       " 'leave': 300,\n",
       " 'afraid': 301,\n",
       " 'face': 302,\n",
       " 'hated': 303,\n",
       " 'mean': 304,\n",
       " 'great': 305,\n",
       " 'used': 306,\n",
       " 'sense': 307,\n",
       " 'agitated': 308,\n",
       " 'cold': 309,\n",
       " 'fact': 310,\n",
       " 'thats': 311,\n",
       " 'care': 312,\n",
       " 'job': 313,\n",
       " 'real': 314,\n",
       " 'mind': 315,\n",
       " 'starting': 316,\n",
       " 'believe': 317,\n",
       " 'inside': 318,\n",
       " 'lately': 319,\n",
       " 'else': 320,\n",
       " 'girl': 321,\n",
       " 'towards': 322,\n",
       " 'found': 323,\n",
       " 'sleep': 324,\n",
       " 'totally': 325,\n",
       " 'reason': 326,\n",
       " 'strong': 327,\n",
       " 'wasnt': 328,\n",
       " 'taking': 329,\n",
       " 'book': 330,\n",
       " 'live': 331,\n",
       " 'until': 332,\n",
       " 'supporting': 333,\n",
       " 'thankful': 334,\n",
       " 'anxious': 335,\n",
       " 'class': 336,\n",
       " 'nervous': 337,\n",
       " 'probably': 338,\n",
       " 'low': 339,\n",
       " 'glad': 340,\n",
       " 'ok': 341,\n",
       " 'generous': 342,\n",
       " 'sorry': 343,\n",
       " 'sort': 344,\n",
       " 'become': 345,\n",
       " 'share': 346,\n",
       " 'loving': 347,\n",
       " 'told': 348,\n",
       " 'words': 349,\n",
       " 'months': 350,\n",
       " 'slightly': 351,\n",
       " 'far': 352,\n",
       " 'wonderful': 353,\n",
       " 'head': 354,\n",
       " 'saying': 355,\n",
       " 'perfect': 356,\n",
       " 'reading': 357,\n",
       " 'kids': 358,\n",
       " 'house': 359,\n",
       " 'came': 360,\n",
       " 'depressed': 361,\n",
       " 'wish': 362,\n",
       " 'safe': 363,\n",
       " 'lonely': 364,\n",
       " 'cool': 365,\n",
       " 'frustrated': 366,\n",
       " 'special': 367,\n",
       " 'show': 368,\n",
       " 'particularly': 369,\n",
       " 'working': 370,\n",
       " 'comfortable': 371,\n",
       " 're': 372,\n",
       " 'scared': 373,\n",
       " 'man': 374,\n",
       " 'coming': 375,\n",
       " 'extremely': 376,\n",
       " 'hear': 377,\n",
       " 'guilty': 378,\n",
       " 'child': 379,\n",
       " 'horrible': 380,\n",
       " 'fine': 381,\n",
       " 'positive': 382,\n",
       " 'bed': 383,\n",
       " 'big': 384,\n",
       " 'emotional': 385,\n",
       " 'children': 386,\n",
       " 'during': 387,\n",
       " 'call': 388,\n",
       " 'confident': 389,\n",
       " 'run': 390,\n",
       " 'amp': 391,\n",
       " 'beloved': 392,\n",
       " 'miserable': 393,\n",
       " 'stuff': 394,\n",
       " 'truly': 395,\n",
       " 'hot': 396,\n",
       " 'terrified': 397,\n",
       " 'thoughts': 398,\n",
       " 'exhausted': 399,\n",
       " 'missed': 400,\n",
       " 'cannot': 401,\n",
       " 'eyes': 402,\n",
       " 'lovely': 403,\n",
       " 'proud': 404,\n",
       " 'tortured': 405,\n",
       " 'ashamed': 406,\n",
       " 'living': 407,\n",
       " 'finally': 408,\n",
       " 'woke': 409,\n",
       " 'control': 410,\n",
       " 'liked': 411,\n",
       " 'irritable': 412,\n",
       " 'hours': 413,\n",
       " 'mother': 414,\n",
       " 'satisfied': 415,\n",
       " 'room': 416,\n",
       " 'anymore': 417,\n",
       " 'havent': 418,\n",
       " 'future': 419,\n",
       " 'awkward': 420,\n",
       " 'walk': 421,\n",
       " 'admit': 422,\n",
       " 'together': 423,\n",
       " 'mad': 424,\n",
       " 'close': 425,\n",
       " 'content': 426,\n",
       " 'selfish': 427,\n",
       " 'seem': 428,\n",
       " 'change': 429,\n",
       " 'usually': 430,\n",
       " 'story': 431,\n",
       " 'lucky': 432,\n",
       " 'successful': 433,\n",
       " 'doesnt': 434,\n",
       " 'disappointed': 435,\n",
       " 'caring': 436,\n",
       " 'spent': 437,\n",
       " 'wrong': 438,\n",
       " 'confused': 439,\n",
       " 'experience': 440,\n",
       " 'unsure': 441,\n",
       " 'woman': 442,\n",
       " 'miss': 443,\n",
       " 'decided': 444,\n",
       " 'wont': 445,\n",
       " 'lethargic': 446,\n",
       " 'amazed': 447,\n",
       " 'super': 448,\n",
       " 'fun': 449,\n",
       " 'matter': 450,\n",
       " 'somehow': 451,\n",
       " 'instead': 452,\n",
       " 'unhappy': 453,\n",
       " 'bothered': 454,\n",
       " 'funny': 455,\n",
       " 'energy': 456,\n",
       " 'longer': 457,\n",
       " 'creative': 458,\n",
       " 'inspired': 459,\n",
       " 'mom': 460,\n",
       " 'popular': 461,\n",
       " 'knew': 462,\n",
       " 'baby': 463,\n",
       " 'seems': 464,\n",
       " 'couldnt': 465,\n",
       " 'side': 466,\n",
       " 'embarrassed': 467,\n",
       " 'small': 468,\n",
       " 'shitty': 469,\n",
       " 'vulnerable': 470,\n",
       " 'annoyed': 471,\n",
       " 'cute': 472,\n",
       " 'full': 473,\n",
       " 'somewhat': 474,\n",
       " 'brave': 475,\n",
       " 'talented': 476,\n",
       " 'situation': 477,\n",
       " 'enjoy': 478,\n",
       " 'move': 479,\n",
       " 'weeks': 480,\n",
       " 'between': 481,\n",
       " 'rest': 482,\n",
       " 'running': 483,\n",
       " 'ask': 484,\n",
       " 'calm': 485,\n",
       " 'idea': 486,\n",
       " 'awful': 487,\n",
       " 'rich': 488,\n",
       " 'terrible': 489,\n",
       " 'knowing': 490,\n",
       " 'ago': 491,\n",
       " 'convinced': 492,\n",
       " 'both': 493,\n",
       " 'hopeless': 494,\n",
       " 'greedy': 495,\n",
       " 'surprised': 496,\n",
       " 'shaken': 497,\n",
       " 'uncomfortable': 498,\n",
       " 'punished': 499,\n",
       " 'absolutely': 500,\n",
       " 'needed': 501,\n",
       " 'empty': 502,\n",
       " 'uncertain': 503,\n",
       " 'precious': 504,\n",
       " 'irritated': 505,\n",
       " 'fucked': 506,\n",
       " 'hes': 507,\n",
       " 'sit': 508,\n",
       " 'money': 509,\n",
       " 'comes': 510,\n",
       " 'insecure': 511,\n",
       " 'melancholy': 512,\n",
       " 'impressed': 513,\n",
       " 'discouraged': 514,\n",
       " 'aching': 515,\n",
       " 'wear': 516,\n",
       " 'offended': 517,\n",
       " 'happen': 518,\n",
       " 'food': 519,\n",
       " 'devastated': 520,\n",
       " 'burdened': 521,\n",
       " 'rejected': 522,\n",
       " 'support': 523,\n",
       " 'eat': 524,\n",
       " 'asked': 525,\n",
       " 'useful': 526,\n",
       " 'hair': 527,\n",
       " 'jealous': 528,\n",
       " 'resentful': 529,\n",
       " 'divine': 530,\n",
       " 'violent': 531,\n",
       " 'talking': 532,\n",
       " 'soon': 533,\n",
       " 'homesick': 534,\n",
       " 'nice': 535,\n",
       " 'sitting': 536,\n",
       " 'wonder': 537,\n",
       " 'simply': 538,\n",
       " 'reluctant': 539,\n",
       " 'dull': 540,\n",
       " 'll': 541,\n",
       " 'husband': 542,\n",
       " 'pleasant': 543,\n",
       " 'seeing': 544,\n",
       " 'different': 545,\n",
       " 'giving': 546,\n",
       " 'watch': 547,\n",
       " 'isolated': 548,\n",
       " 'turn': 549,\n",
       " 'women': 550,\n",
       " 'open': 551,\n",
       " 'happened': 552,\n",
       " 'hopeful': 553,\n",
       " 'however': 554,\n",
       " 'beautiful': 555,\n",
       " 'whether': 556,\n",
       " 'cause': 557,\n",
       " 'music': 558,\n",
       " 'cranky': 559,\n",
       " 'respected': 560,\n",
       " 'youre': 561,\n",
       " 'hand': 562,\n",
       " 'paranoid': 563,\n",
       " 'tonight': 564,\n",
       " 'useless': 565,\n",
       " 'began': 566,\n",
       " 'kinda': 567,\n",
       " 'rude': 568,\n",
       " 'mine': 569,\n",
       " 'gorgeous': 570,\n",
       " 'rushed': 571,\n",
       " 'apprehensive': 572,\n",
       " 'assured': 573,\n",
       " 'curious': 574,\n",
       " 'stay': 575,\n",
       " 'ways': 576,\n",
       " 'theres': 577,\n",
       " 'beaten': 578,\n",
       " 'wanting': 579,\n",
       " 'insulted': 580,\n",
       " 'determined': 581,\n",
       " 'pressured': 582,\n",
       " 'honored': 583,\n",
       " 'relaxed': 584,\n",
       " 'ugly': 585,\n",
       " 'sick': 586,\n",
       " 'pissed': 587,\n",
       " 'groggy': 588,\n",
       " 'innocent': 589,\n",
       " 'gloomy': 590,\n",
       " 'valuable': 591,\n",
       " 'guy': 592,\n",
       " 'unwelcome': 593,\n",
       " 'parents': 594,\n",
       " 'took': 595,\n",
       " 'ready': 596,\n",
       " 'wronged': 597,\n",
       " 'either': 598,\n",
       " 'valued': 599,\n",
       " 'gone': 600,\n",
       " 'certain': 601,\n",
       " 'dangerous': 602,\n",
       " 'incredibly': 603,\n",
       " 'honestly': 604,\n",
       " 'watching': 605,\n",
       " 'wake': 606,\n",
       " 'numb': 607,\n",
       " 'optimistic': 608,\n",
       " 'set': 609,\n",
       " 'dissatisfied': 610,\n",
       " 'pathetic': 611,\n",
       " 'needs': 612,\n",
       " 'couple': 613,\n",
       " 'faithful': 614,\n",
       " 'against': 615,\n",
       " 'intimidated': 616,\n",
       " 'shy': 617,\n",
       " 'blank': 618,\n",
       " 'sympathetic': 619,\n",
       " 'ignored': 620,\n",
       " 'crappy': 621,\n",
       " 'friendly': 622,\n",
       " 'dumb': 623,\n",
       " 'books': 624,\n",
       " 'joyful': 625,\n",
       " 'heartbroken': 626,\n",
       " 'dirty': 627,\n",
       " 'song': 628,\n",
       " 'bitter': 629,\n",
       " 'superior': 630,\n",
       " 'worthless': 631,\n",
       " 'cry': 632,\n",
       " 'three': 633,\n",
       " 'shes': 634,\n",
       " 'relationship': 635,\n",
       " 'disheartened': 636,\n",
       " 'sincere': 637,\n",
       " 'longing': 638,\n",
       " 'smart': 639,\n",
       " 'weekend': 640,\n",
       " 'threatened': 641,\n",
       " 'pleased': 642,\n",
       " 'festive': 643,\n",
       " 'realize': 644,\n",
       " 'high': 645,\n",
       " 'definitely': 646,\n",
       " 'called': 647,\n",
       " 'regretful': 648,\n",
       " 'front': 649,\n",
       " 'hesitant': 650,\n",
       " 'lousy': 651,\n",
       " 'www': 652,\n",
       " 'listen': 653,\n",
       " 'vain': 654,\n",
       " 'mellow': 655,\n",
       " 'trust': 656,\n",
       " 'weight': 657,\n",
       " 'delicious': 658,\n",
       " 'joy': 659,\n",
       " 'disturbed': 660,\n",
       " 'clever': 661,\n",
       " 'broke': 662,\n",
       " 'naughty': 663,\n",
       " 'upset': 664,\n",
       " 'nostalgic': 665,\n",
       " 'romantic': 666,\n",
       " 'fake': 667,\n",
       " 'supportive': 668,\n",
       " 'd': 669,\n",
       " 'shocked': 670,\n",
       " 'bitchy': 671,\n",
       " 'productive': 672,\n",
       " 'damaged': 673,\n",
       " 'ones': 674,\n",
       " 'yesterday': 675,\n",
       " 'eating': 676,\n",
       " 'waiting': 677,\n",
       " 'guys': 678,\n",
       " 'humiliated': 679,\n",
       " 'lives': 680,\n",
       " 'etc': 681,\n",
       " 'spend': 682,\n",
       " 'fearful': 683,\n",
       " 'fantastic': 684,\n",
       " 'outside': 685,\n",
       " 'resolved': 686,\n",
       " 'distracted': 687,\n",
       " 'true': 688,\n",
       " 'drained': 689,\n",
       " 'half': 690,\n",
       " 'troubled': 691,\n",
       " 'inadequate': 692,\n",
       " 'hour': 693,\n",
       " 'defeated': 694,\n",
       " 'course': 695,\n",
       " 'given': 696,\n",
       " 'energetic': 697,\n",
       " 'disgusted': 698,\n",
       " 'whatever': 699,\n",
       " 'tried': 700,\n",
       " 'intelligent': 701,\n",
       " 'suddenly': 702,\n",
       " 'shaky': 703,\n",
       " 'petty': 704,\n",
       " 'listless': 705,\n",
       " 'gentle': 706,\n",
       " 'unimportant': 707,\n",
       " 'trusting': 708,\n",
       " 'fabulous': 709,\n",
       " 'carefree': 710,\n",
       " 'boring': 711,\n",
       " 'second': 712,\n",
       " 'whenever': 713,\n",
       " 'relieved': 714,\n",
       " 'rotten': 715,\n",
       " 'welcomed': 716,\n",
       " 'lame': 717,\n",
       " 'skin': 718,\n",
       " 'behind': 719,\n",
       " 'generally': 720,\n",
       " 'christmas': 721,\n",
       " 'supposed': 722,\n",
       " 'eager': 723,\n",
       " 'deprived': 724,\n",
       " 'needy': 725,\n",
       " 'isnt': 726,\n",
       " 'exactly': 727,\n",
       " 'continue': 728,\n",
       " 'single': 729,\n",
       " 'deep': 730,\n",
       " 'unfortunate': 731,\n",
       " 'summer': 732,\n",
       " 'suffering': 733,\n",
       " 'list': 734,\n",
       " 'grateful': 735,\n",
       " 'under': 736,\n",
       " 'buy': 737,\n",
       " 'horny': 738,\n",
       " 'rebellious': 739,\n",
       " 'hold': 740,\n",
       " 'impatient': 741,\n",
       " 'play': 742,\n",
       " 'adventurous': 743,\n",
       " 'although': 744,\n",
       " 'realized': 745,\n",
       " 'doomed': 746,\n",
       " 'plan': 747,\n",
       " 'young': 748,\n",
       " 'worthwhile': 749,\n",
       " 'country': 750,\n",
       " 'word': 751,\n",
       " 'restless': 752,\n",
       " 'toward': 753,\n",
       " 'loyal': 754,\n",
       " 'tender': 755,\n",
       " 'thrilled': 756,\n",
       " 'peaceful': 757,\n",
       " 'order': 758,\n",
       " 'virtuous': 759,\n",
       " 'jaded': 760,\n",
       " 'smile': 761,\n",
       " 'girls': 762,\n",
       " 'car': 763,\n",
       " 'artistic': 764,\n",
       " 'taken': 765,\n",
       " 'deal': 766,\n",
       " 'ungrateful': 767,\n",
       " 'learned': 768,\n",
       " 'mood': 769,\n",
       " 'honoured': 770,\n",
       " 'fear': 771,\n",
       " 'invigorated': 772,\n",
       " 'normal': 773,\n",
       " 'students': 774,\n",
       " 'using': 775,\n",
       " 'forward': 776,\n",
       " 'wasn': 777,\n",
       " 'along': 778,\n",
       " 'game': 779,\n",
       " 'lack': 780,\n",
       " 'frightened': 781,\n",
       " 'boy': 782,\n",
       " 'problems': 783,\n",
       " 'movie': 784,\n",
       " 'men': 785,\n",
       " 'foolish': 786,\n",
       " 'later': 787,\n",
       " 'acceptable': 788,\n",
       " 'saw': 789,\n",
       " 'name': 790,\n",
       " 'contented': 791,\n",
       " 'abused': 792,\n",
       " 'within': 793,\n",
       " 'break': 794,\n",
       " 'constantly': 795,\n",
       " 'grumpy': 796,\n",
       " 'sat': 797,\n",
       " 'discontent': 798,\n",
       " 'stand': 799,\n",
       " 'telling': 800,\n",
       " 'learn': 801,\n",
       " 'seen': 802,\n",
       " 'moving': 803,\n",
       " 'emotions': 804,\n",
       " 'smug': 805,\n",
       " 'vital': 806,\n",
       " 'beginning': 807,\n",
       " 'lose': 808,\n",
       " 'dream': 809,\n",
       " 'moments': 810,\n",
       " 'art': 811,\n",
       " 'stomach': 812,\n",
       " 'oh': 813,\n",
       " 'triumphant': 814,\n",
       " 'opportunity': 815,\n",
       " 'delicate': 816,\n",
       " 'fall': 817,\n",
       " 'doesn': 818,\n",
       " 'fond': 819,\n",
       " 'desire': 820,\n",
       " 'privileged': 821,\n",
       " 'putting': 822,\n",
       " 'learning': 823,\n",
       " 'terrific': 824,\n",
       " 'minutes': 825,\n",
       " 'stubborn': 826,\n",
       " 'hands': 827,\n",
       " 'meet': 828,\n",
       " 'easy': 829,\n",
       " 'unloved': 830,\n",
       " 'upon': 831,\n",
       " 'submissive': 832,\n",
       " 'age': 833,\n",
       " 'casual': 834,\n",
       " 'team': 835,\n",
       " 'means': 836,\n",
       " 'ecstatic': 837,\n",
       " 'deeply': 838,\n",
       " 'walked': 839,\n",
       " 'type': 840,\n",
       " 'reassured': 841,\n",
       " 'begin': 842,\n",
       " 'goes': 843,\n",
       " 'piece': 844,\n",
       " 'shit': 845,\n",
       " 'wouldnt': 846,\n",
       " 'src': 847,\n",
       " 'worked': 848,\n",
       " 'peace': 849,\n",
       " 'human': 850,\n",
       " 'bring': 851,\n",
       " 'frantic': 852,\n",
       " 'focus': 853,\n",
       " 'worried': 854,\n",
       " 'gets': 855,\n",
       " 'looks': 856,\n",
       " 'healthy': 857,\n",
       " 'kept': 858,\n",
       " 'worth': 859,\n",
       " 'met': 860,\n",
       " 'speak': 861,\n",
       " 'imagine': 862,\n",
       " 'won': 863,\n",
       " 'yes': 864,\n",
       " 'despite': 865,\n",
       " 'group': 866,\n",
       " 'touch': 867,\n",
       " 'personal': 868,\n",
       " 'walking': 869,\n",
       " 'air': 870,\n",
       " 'wearing': 871,\n",
       " 'wants': 872,\n",
       " 'red': 873,\n",
       " 'possibly': 874,\n",
       " 'loss': 875,\n",
       " 'leaving': 876,\n",
       " 'suppose': 877,\n",
       " 'seriously': 878,\n",
       " 'late': 879,\n",
       " 'father': 880,\n",
       " 'space': 881,\n",
       " 'utterly': 882,\n",
       " 'chance': 883,\n",
       " 'phone': 884,\n",
       " 'month': 885,\n",
       " 'comments': 886,\n",
       " 'appreciative': 887,\n",
       " 'amount': 888,\n",
       " 'possible': 889,\n",
       " 'sentimental': 890,\n",
       " 'skeptical': 891,\n",
       " 'stories': 892,\n",
       " 'strongly': 893,\n",
       " 'finished': 894,\n",
       " 'arms': 895,\n",
       " 'across': 896,\n",
       " 'attention': 897,\n",
       " 'envious': 898,\n",
       " 'due': 899,\n",
       " 'tragic': 900,\n",
       " 'damn': 901,\n",
       " 'news': 902,\n",
       " 'amused': 903,\n",
       " 'heard': 904,\n",
       " 'short': 905,\n",
       " 'son': 906,\n",
       " 'tears': 907,\n",
       " 'perhaps': 908,\n",
       " 'quickly': 909,\n",
       " 'style': 910,\n",
       " 'known': 911,\n",
       " 'add': 912,\n",
       " 'spending': 913,\n",
       " 'recently': 914,\n",
       " 'brain': 915,\n",
       " 'questions': 916,\n",
       " 'fucking': 917,\n",
       " 'state': 918,\n",
       " 'community': 919,\n",
       " 'expect': 920,\n",
       " 'unpleasant': 921,\n",
       " 'truth': 922,\n",
       " 'theyre': 923,\n",
       " 'college': 924,\n",
       " 'img': 925,\n",
       " 'line': 926,\n",
       " 'wondering': 927,\n",
       " 'water': 928,\n",
       " 'gave': 929,\n",
       " 'keeping': 930,\n",
       " 'worse': 931,\n",
       " 'doubtful': 932,\n",
       " 'personally': 933,\n",
       " 'dazed': 934,\n",
       " 'finish': 935,\n",
       " 'crazy': 936,\n",
       " 'top': 937,\n",
       " 'disillusioned': 938,\n",
       " 'delighted': 939,\n",
       " 'picture': 940,\n",
       " 'emotionally': 941,\n",
       " 'pay': 942,\n",
       " 'level': 943,\n",
       " 'crying': 944,\n",
       " 'themselves': 945,\n",
       " 'sleeping': 946,\n",
       " 'race': 947,\n",
       " 'cut': 948,\n",
       " 'act': 949,\n",
       " 'voice': 950,\n",
       " 'managed': 951,\n",
       " 'party': 952,\n",
       " 'sadness': 953,\n",
       " 'spirit': 954,\n",
       " 'decision': 955,\n",
       " 'lots': 956,\n",
       " 'messy': 957,\n",
       " 'photos': 958,\n",
       " 'four': 959,\n",
       " 'usual': 960,\n",
       " 'reasons': 961,\n",
       " 'explain': 962,\n",
       " 'distressed': 963,\n",
       " 'everyday': 964,\n",
       " 'trip': 965,\n",
       " 'u': 966,\n",
       " 'effort': 967,\n",
       " 'stress': 968,\n",
       " 'hostile': 969,\n",
       " 'missing': 970,\n",
       " 'physically': 971,\n",
       " 'tomorrow': 972,\n",
       " 'light': 973,\n",
       " 'anger': 974,\n",
       " 'death': 975,\n",
       " 'decide': 976,\n",
       " 'lazy': 977,\n",
       " 'choice': 978,\n",
       " 'wait': 979,\n",
       " 'fairly': 980,\n",
       " 'weather': 981,\n",
       " 'hit': 982,\n",
       " 'remorseful': 983,\n",
       " 'listening': 984,\n",
       " 'anyway': 985,\n",
       " 'early': 986,\n",
       " 'church': 987,\n",
       " 'general': 988,\n",
       " 'step': 989,\n",
       " 'mostly': 990,\n",
       " 'passed': 991,\n",
       " 'tend': 992,\n",
       " 'glamorous': 993,\n",
       " 'please': 994,\n",
       " 'keen': 995,\n",
       " 'looked': 996,\n",
       " 'gotten': 997,\n",
       " 'forget': 998,\n",
       " 'asking': 999,\n",
       " 'issues': 1000,\n",
       " ...}"
      ]
     },
     "execution_count": 41,
     "metadata": {},
     "output_type": "execute_result"
    }
   ],
   "source": [
    "word_index=tokenizer.word_index\n",
    "word_index"
   ]
  },
  {
   "cell_type": "code",
   "execution_count": 42,
   "metadata": {},
   "outputs": [
    {
     "name": "stdout",
     "output_type": "stream",
     "text": [
      "i didnt feel humiliated\n"
     ]
    },
    {
     "data": {
      "text/plain": [
       "[[2, 139, 3, 679]]"
      ]
     },
     "execution_count": 42,
     "metadata": {},
     "output_type": "execute_result"
    }
   ],
   "source": [
    "print(tweets[0])\n",
    "tokenizer.texts_to_sequences([tweets[0]])"
   ]
  },
  {
   "cell_type": "markdown",
   "metadata": {},
   "source": [
    "# Padding and Trucating the Tweets"
   ]
  },
  {
   "cell_type": "markdown",
   "metadata": {},
   "source": [
    "### Finding the best maxlen parameter"
   ]
  },
  {
   "cell_type": "code",
   "execution_count": 48,
   "metadata": {},
   "outputs": [],
   "source": [
    "lengths=[len(t.split()) for t in tweets]"
   ]
  },
  {
   "cell_type": "code",
   "execution_count": 59,
   "metadata": {},
   "outputs": [
    {
     "data": {
      "image/png": "[encoded data removed]",
      "text/plain": [
       "<Figure size 720x360 with 1 Axes>"
      ]
     },
     "metadata": {
      "needs_background": "light"
     },
     "output_type": "display_data"
    }
   ],
   "source": [
    "#np.array(lengths)\n",
    "plt.figure(figsize=(10,5))\n",
    "plt.hist(lengths,bins=len(set(lengths)))\n",
    "plt.tight_layout()\n",
    "plt.show()"
   ]
  },
  {
   "cell_type": "code",
   "execution_count": 62,
   "metadata": {},
   "outputs": [],
   "source": [
    "def get_sequences(tokenizer,tweets):\n",
    "    sequences=tokenizer.texts_to_sequences(tweets)\n",
    "    padded=pad_sequences(sequences,maxlen=max_length,truncating=trunc_type,padding=pad_type)\n",
    "    return padded"
   ]
  },
  {
   "cell_type": "code",
   "execution_count": 63,
   "metadata": {},
   "outputs": [],
   "source": [
    "padded_train_seq=get_sequences(tokenizer,tweets)"
   ]
  },
  {
   "cell_type": "code",
   "execution_count": 64,
   "metadata": {},
   "outputs": [
    {
     "data": {
      "text/plain": [
       "array([  2, 139,   3, 679,   0,   0,   0,   0,   0,   0,   0,   0,   0,\n",
       "         0,   0,   0,   0,   0,   0,   0,   0,   0,   0,   0,   0,   0,\n",
       "         0,   0,   0,   0,   0,   0,   0,   0,   0,   0,   0,   0,   0,\n",
       "         0,   0,   0,   0,   0,   0,   0,   0,   0,   0,   0])"
      ]
     },
     "execution_count": 64,
     "metadata": {},
     "output_type": "execute_result"
    }
   ],
   "source": [
    "padded_train_seq[0]"
   ]
  },
  {
   "cell_type": "markdown",
   "metadata": {},
   "source": [
    "# Preparing the labels for processing"
   ]
  },
  {
   "cell_type": "code",
   "execution_count": 67,
   "metadata": {},
   "outputs": [],
   "source": [
    "from sklearn.preprocessing import LabelEncoder"
   ]
  },
  {
   "cell_type": "code",
   "execution_count": 74,
   "metadata": {},
   "outputs": [],
   "source": [
    "classes=set(labels)"
   ]
  },
  {
   "cell_type": "code",
   "execution_count": 75,
   "metadata": {},
   "outputs": [
    {
     "data": {
      "text/plain": [
       "{'anger', 'fear', 'joy', 'love', 'sadness', 'surprise'}"
      ]
     },
     "execution_count": 75,
     "metadata": {},
     "output_type": "execute_result"
    }
   ],
   "source": [
    "classes"
   ]
  },
  {
   "cell_type": "code",
   "execution_count": 78,
   "metadata": {},
   "outputs": [
    {
     "data": {
      "image/png": "[encoded data removed]",
      "text/plain": [
       "<Figure size 720x360 with 1 Axes>"
      ]
     },
     "metadata": {
      "needs_background": "light"
     },
     "output_type": "display_data"
    }
   ],
   "source": [
    "\n",
    "## Distribtion of labels\n",
    "\n",
    "plt.figure(figsize=(10,5))\n",
    "plt.hist(labels,bins=11)\n",
    "plt.show()"
   ]
  },
  {
   "cell_type": "code",
   "execution_count": 86,
   "metadata": {},
   "outputs": [],
   "source": [
    "le=LabelEncoder()\n",
    "train_labels=le.fit_transform(labels)"
   ]
  },
  {
   "cell_type": "code",
   "execution_count": 87,
   "metadata": {},
   "outputs": [
    {
     "data": {
      "text/plain": [
       "array([4, 4, 0, ..., 2, 0, 4], dtype=int64)"
      ]
     },
     "execution_count": 87,
     "metadata": {},
     "output_type": "execute_result"
    }
   ],
   "source": [
    "train_labels"
   ]
  },
  {
   "cell_type": "markdown",
   "metadata": {},
   "source": [
    "### The index position of labels"
   ]
  },
  {
   "cell_type": "code",
   "execution_count": 88,
   "metadata": {},
   "outputs": [
    {
     "name": "stdout",
     "output_type": "stream",
     "text": [
      "['anger' 'fear' 'joy' 'love' 'sadness' 'surprise']\n"
     ]
    },
    {
     "data": {
      "text/plain": [
       "array([0, 1, 2, 3, 4, 5])"
      ]
     },
     "execution_count": 88,
     "metadata": {},
     "output_type": "execute_result"
    }
   ],
   "source": [
    "print(le.classes_)\n",
    "le.transform(le.classes_)"
   ]
  },
  {
   "cell_type": "markdown",
   "metadata": {},
   "source": [
    "# Creating the Model"
   ]
  },
  {
   "cell_type": "code",
   "execution_count": 89,
   "metadata": {},
   "outputs": [],
   "source": [
    "from tensorflow.keras.layers import *"
   ]
  },
  {
   "cell_type": "code",
   "execution_count": 95,
   "metadata": {},
   "outputs": [
    {
     "name": "stdout",
     "output_type": "stream",
     "text": [
      "Model: \"sequential_1\"\n",
      "_________________________________________________________________\n",
      " Layer (type)                Output Shape              Param #   \n",
      "=================================================================\n",
      " embedding_1 (Embedding)     (None, 50, 16)            160000    \n",
      "                                                                 \n",
      " bidirectional_2 (Bidirectio  (None, 50, 40)           5920      \n",
      " nal)                                                            \n",
      "                                                                 \n",
      " bidirectional_3 (Bidirectio  (None, 40)               9760      \n",
      " nal)                                                            \n",
      "                                                                 \n",
      " dense_1 (Dense)             (None, 6)                 246       \n",
      "                                                                 \n",
      "=================================================================\n",
      "Total params: 175,926\n",
      "Trainable params: 175,926\n",
      "Non-trainable params: 0\n",
      "_________________________________________________________________\n"
     ]
    }
   ],
   "source": [
    "model=tf.keras.Sequential([\n",
    "\n",
    "    Embedding(vocab_size,embedding_dim,input_length=max_length),\n",
    "    Bidirectional(LSTM(20,return_sequences=True)),\n",
    "    Bidirectional(LSTM(20)),\n",
    "    Dense(6,activation=\"softmax\")\n",
    "])\n",
    "\n",
    "model.summary()"
   ]
  },
  {
   "cell_type": "code",
   "execution_count": 96,
   "metadata": {},
   "outputs": [],
   "source": [
    "model.compile(\n",
    "            loss=\"sparse_categorical_crossentropy\",\n",
    "            optimizer=\"adam\",\n",
    "            metrics=[\"accuracy\"]\n",
    "            )\n",
    "            \n"
   ]
  },
  {
   "cell_type": "markdown",
   "metadata": {},
   "source": [
    "### Preparing the validation data"
   ]
  },
  {
   "cell_type": "code",
   "execution_count": 93,
   "metadata": {},
   "outputs": [],
   "source": [
    "val_tweets,val_labels=get_tweet(val)\n",
    "val_seq=get_sequences(tokenizer,val_tweets)\n",
    "val_labels=le.transform(val_labels)"
   ]
  },
  {
   "cell_type": "code",
   "execution_count": 97,
   "metadata": {},
   "outputs": [
    {
     "name": "stdout",
     "output_type": "stream",
     "text": [
      "Epoch 1/20\n",
      "500/500 [==============================] - 25s 40ms/step - loss: 1.3518 - accuracy: 0.4684 - val_loss: 0.8436 - val_accuracy: 0.7100\n",
      "Epoch 2/20\n",
      "500/500 [==============================] - 17s 35ms/step - loss: 0.4694 - accuracy: 0.8411 - val_loss: 0.4004 - val_accuracy: 0.8640\n",
      "Epoch 3/20\n",
      "500/500 [==============================] - 15s 30ms/step - loss: 0.2160 - accuracy: 0.9301 - val_loss: 0.3674 - val_accuracy: 0.8785\n",
      "Epoch 4/20\n",
      "500/500 [==============================] - 21s 41ms/step - loss: 0.1497 - accuracy: 0.9513 - val_loss: 0.3726 - val_accuracy: 0.8780\n",
      "Epoch 5/20\n",
      "500/500 [==============================] - 16s 31ms/step - loss: 0.1112 - accuracy: 0.9638 - val_loss: 0.3787 - val_accuracy: 0.8850\n",
      "Epoch 6/20\n",
      "500/500 [==============================] - 18s 35ms/step - loss: 0.0899 - accuracy: 0.9711 - val_loss: 0.3643 - val_accuracy: 0.8985\n",
      "Epoch 7/20\n",
      "500/500 [==============================] - 17s 34ms/step - loss: 0.0741 - accuracy: 0.9763 - val_loss: 0.3984 - val_accuracy: 0.8860\n",
      "Epoch 8/20\n",
      "500/500 [==============================] - 16s 32ms/step - loss: 0.0650 - accuracy: 0.9797 - val_loss: 0.3970 - val_accuracy: 0.8970\n"
     ]
    }
   ],
   "source": [
    "history=model.fit(padded_train_seq,train_labels,\n",
    "        validation_data=(val_seq,val_labels),\n",
    "        epochs=20,\n",
    "        callbacks=[tf.keras.callbacks.EarlyStopping(monitor=\"val_accuracy\",patience=2)])"
   ]
  },
  {
   "cell_type": "markdown",
   "metadata": {},
   "source": [
    "# Evaluating the model"
   ]
  },
  {
   "cell_type": "code",
   "execution_count": 98,
   "metadata": {},
   "outputs": [
    {
     "data": {
      "image/png": "[encoded data removed]",
      "text/plain": [
       "<Figure size 1152x432 with 2 Axes>"
      ]
     },
     "metadata": {
      "needs_background": "light"
     },
     "output_type": "display_data"
    }
   ],
   "source": [
    "show_history(history)"
   ]
  },
  {
   "cell_type": "code",
   "execution_count": 99,
   "metadata": {},
   "outputs": [],
   "source": [
    "test_tweets,test_lables=get_tweet(test)\n",
    "test_seq=get_sequences(tokenizer,test_tweets)\n",
    "test_lables=le.transform(test_lables)"
   ]
  },
  {
   "cell_type": "code",
   "execution_count": 101,
   "metadata": {},
   "outputs": [
    {
     "name": "stdout",
     "output_type": "stream",
     "text": [
      "63/63 [==============================] - 1s 13ms/step - loss: 0.4086 - accuracy: 0.8850\n"
     ]
    },
    {
     "data": {
      "text/plain": [
       "[0.40863385796546936, 0.8849999904632568]"
      ]
     },
     "execution_count": 101,
     "metadata": {},
     "output_type": "execute_result"
    }
   ],
   "source": [
    "model.evaluate(test_seq,test_lables)"
   ]
  },
  {
   "cell_type": "code",
   "execution_count": 115,
   "metadata": {},
   "outputs": [
    {
     "name": "stdout",
     "output_type": "stream",
     "text": [
      " Sentence :  i just feel totally useless today\n",
      "Emotion :  sadness\n",
      "sadness\n"
     ]
    }
   ],
   "source": [
    "i = random.randint(0,len(test_lables)-1)\n",
    "print(\" Sentence : \",test_tweets[i])\n",
    "print(\"Emotion : \",get_emotion(test_lables[i]))\n",
    "\n",
    "p=model.predict(np.expand_dims(test_seq[i],axis=0))[0]\n",
    "print(get_emotion(np.argmax(p)))\n",
    "#print(get_emotion(p))"
   ]
  },
  {
   "cell_type": "code",
   "execution_count": 110,
   "metadata": {},
   "outputs": [],
   "source": [
    "def get_emotion(data):\n",
    "    lis=le.transform(le.classes_)\n",
    "\n",
    "    for i in range(len(le.classes_)):\n",
    "        \n",
    "        if data==lis[i]:\n",
    "            return le.classes_[i]"
   ]
  },
  {
   "cell_type": "markdown",
   "metadata": {},
   "source": [
    "# Saving the model"
   ]
  },
  {
   "cell_type": "code",
   "execution_count": 116,
   "metadata": {},
   "outputs": [],
   "source": [
    "model.save(\"./tweet_emotion.h5\")\n"
   ]
  },
  {
   "cell_type": "code",
   "execution_count": 119,
   "metadata": {},
   "outputs": [],
   "source": [
    "model1=tf.keras.models.load_model(\"./tweet_emotion.h5\")"
   ]
  },
  {
   "cell_type": "code",
   "execution_count": 132,
   "metadata": {},
   "outputs": [],
   "source": [
    "preds=model.predict(test_seq)"
   ]
  },
  {
   "cell_type": "code",
   "execution_count": 133,
   "metadata": {},
   "outputs": [],
   "source": [
    "new_pred=[]\n",
    "for i in range(len(preds)):\n",
    "    new_pred.append(np.argmax(preds[i]))\n",
    "#np.argmax(preds[0])"
   ]
  },
  {
   "cell_type": "code",
   "execution_count": 135,
   "metadata": {},
   "outputs": [
    {
     "data": {
      "image/png": "[encoded data removed]",
      "text/plain": [
       "<Figure size 576x576 with 2 Axes>"
      ]
     },
     "metadata": {
      "needs_background": "light"
     },
     "output_type": "display_data"
    }
   ],
   "source": [
    "show_confusion_matrix(test_lables,new_pred,list(classes))"
   ]
  },
  {
   "cell_type": "code",
   "execution_count": null,
   "metadata": {},
   "outputs": [],
   "source": []
  }
 ],
 "metadata": {
  "interpreter": {
   "hash": "bc364ba9a889da25a8c6c6bf88398bb8d266823969470939d4b00f7de9daab84"
  },
  "kernelspec": {
   "display_name": "Python 3.8.3 64-bit ('dl_tf': conda)",
   "language": "python",
   "name": "python3"
  },
  "language_info": {
   "codemirror_mode": {
    "name": "ipython",
    "version": 3
   },
   "file_extension": ".py",
   "mimetype": "text/x-python",
   "name": "python",
   "nbconvert_exporter": "python",
   "pygments_lexer": "ipython3",
   "version": "3.8.3"
  },
  "orig_nbformat": 4
 },
 "nbformat": 4,
 "nbformat_minor": 2
}
